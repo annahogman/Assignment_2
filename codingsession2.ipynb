{
 "cells": [
  {
   "cell_type": "markdown",
   "metadata": {},
   "source": [
    "Question 1. \n",
    "Using problem 3 in week 1, write functions for the following:\n",
    "\n",
    "    1. Collecting the inputs for the problem. Convert the inputs to the relevant types they should be.\n",
    "    2. Calculating the equation given the inputs from the above.\n",
    "    3. Printing your result in a preformatted string.\n",
    "    \n",
    "Ensure to include a main program that reads the values from the user."
   ]
  },
  {
   "cell_type": "code",
   "execution_count": null,
   "metadata": {},
   "outputs": [],
   "source": [
    "def converter ():\n",
    "    ft = float(input(\"Input measurement in feet:\"))\n",
    "    inches = round(ft * 12,2)\n",
    "    yards = round(ft / 3,2)\n",
    "    miles = round(ft /5280,2)\n",
    "\n",
    "    print(f\"{ft} feet is {inches} inches, {yards} yards and {miles} miles\")\n",
    "\n",
    "converter()"
   ]
  },
  {
   "cell_type": "markdown",
   "metadata": {},
   "source": [
    "Question 2:\n",
    "Write a function that takes three numbers as parameters, and returns the mean value of those parameters as its result. Include a main program that reads three values from the user and displays their mean."
   ]
  },
  {
   "cell_type": "code",
   "execution_count": null,
   "metadata": {},
   "outputs": [],
   "source": [
    "\n",
    "def myMean ():  #define function\n",
    "    int1 = int(input(\"Enter a number\")) #ask user for input\n",
    "    int2 = int(input(\"Enter a second number\")) #ask user for input\n",
    "    int3 = int(input(\"Enter a third number\")) #ask user for input\n",
    "    mean = (int1 + int2 + int3)/3 #calculate the mean\n",
    "\n",
    "    return mean \n",
    "\n",
    "print(\"The mean of the numbers you entered is\", myMean())\n"
   ]
  },
  {
   "cell_type": "markdown",
   "metadata": {},
   "source": [
    "Question 3: Only the words.\n",
    "Create a program that identifies all of the words in a string entered by a user. Begin by writing a function that takes a string of text as its only parameter. Your function should return a list of the words in the string with the punctuation marks removed. Punctuation marks include commas, periods, question marks, hyphens, apostrophes, exclamation points, colons, and semicolons. "
   ]
  },
  {
   "cell_type": "code",
   "execution_count": null,
   "metadata": {},
   "outputs": [],
   "source": [
    "def words ():\n",
    "    phrase = input(\"Enter a phrase here:\")\n",
    "    list = phrase.replace(',', '').replace('.', '').replace('?', '').replace('-', '').replace(\"'\", '').replace('!', '').replace(':', '').replace(';', '').split(\" \")\n",
    "\n",
    "    print(list)\n",
    "\n",
    "words()\n",
    "    "
   ]
  },
  {
   "cell_type": "markdown",
   "metadata": {},
   "source": [
    "Question 4:\n",
    "Create a program that will serve as a class database and will allow users to add names and scores to the database. For each name and score that is added, print the dictionary database for the user."
   ]
  },
  {
   "cell_type": "code",
   "execution_count": null,
   "metadata": {},
   "outputs": [],
   "source": [
    "d = {}\n",
    "\n",
    "def name():\n",
    "    x = input('Please enter your name: ')\n",
    "    y = int(input('Please enter your score: '))\n",
    "\n",
    "    print(d.keys())\n",
    "    if x in d.keys():\n",
    "        d[x] = d[x] + y\n",
    "\n",
    "    else:\n",
    "          d[x] = y\n",
    "\n",
    "    print(d)\n",
    "\n",
    "\n",
    "while True:\n",
    "    name()"
   ]
  },
  {
   "cell_type": "markdown",
   "metadata": {},
   "source": [
    "Question 5:\n",
    "A prime number is an integer greater than 1 that is only divisible by one and itself. Write a function that determines whether or not its parameter is prime, returning True if it is and False otherwise. Write a main program that reads an integer from the user and displays a message indicating whether or not it is a prime. Ensure tht the main program will not run if the file containing your solution is imported into another program."
   ]
  },
  {
   "cell_type": "code",
   "execution_count": null,
   "metadata": {},
   "outputs": [],
   "source": [
    "def priime():\n",
    "    int1 = int(input(\"Enter a number here: \")) #ask user input as integer\n",
    "    if int1 > 1: #prime greater than 1\n",
    "\n",
    "        #check for factors\n",
    "        for i in range (2, int1): #range from 2 til int1-1\n",
    "            if (int1 % i) == 0: #check if the integer is divisible\n",
    "                print(False) #if conditions is met (integer divisible), int1 is not prime\n",
    "                break # break out the for loop\n",
    "        \n",
    "        else: # only runs if we don't break out the for loop\n",
    "            print(True)\n",
    "\n",
    "    else: # if int1 is not greater than 1\n",
    "        print(False)\n",
    "\n",
    "priime()\n"
   ]
  }
 ],
 "metadata": {
  "kernelspec": {
   "display_name": "Python 3.10.6 64-bit",
   "language": "python",
   "name": "python3"
  },
  "language_info": {
   "codemirror_mode": {
    "name": "ipython",
    "version": 3
   },
   "file_extension": ".py",
   "mimetype": "text/x-python",
   "name": "python",
   "nbconvert_exporter": "python",
   "pygments_lexer": "ipython3",
   "version": "3.10.6"
  },
  "orig_nbformat": 4,
  "vscode": {
   "interpreter": {
    "hash": "aee8b7b246df8f9039afb4144a1f6fd8d2ca17a180786b69acc140d282b71a49"
   }
  }
 },
 "nbformat": 4,
 "nbformat_minor": 2
}
